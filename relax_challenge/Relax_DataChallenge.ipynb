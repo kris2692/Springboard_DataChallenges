{
 "cells": [
  {
   "cell_type": "code",
   "execution_count": 165,
   "metadata": {},
   "outputs": [],
   "source": [
    "import matplotlib.pyplot as plt\n",
    "import pandas as pd\n",
    "import numpy as np\n",
    "import datetime as dt\n",
    "import seaborn as sns\n",
    "from sklearn.preprocessing import StandardScaler\n",
    "from sklearn.preprocessing import OneHotEncoder\n",
    "from sklearn.impute import SimpleImputer\n",
    "from sklearn.model_selection import train_test_split, RandomizedSearchCV, StratifiedKFold, learning_curve\n",
    "from sklearn.metrics import roc_auc_score, roc_curve, auc, accuracy_score, confusion_matrix, classification_report\n",
    "from sklearn.preprocessing import LabelEncoder\n",
    "import lightgbm"
   ]
  },
  {
   "cell_type": "code",
   "execution_count": 123,
   "metadata": {},
   "outputs": [],
   "source": [
    "pd.set_option('display.max_rows', 2000)"
   ]
  },
  {
   "cell_type": "code",
   "execution_count": 124,
   "metadata": {},
   "outputs": [],
   "source": [
    "sns.set(rc={'figure.figsize':(20,10)})\n",
    "sns.set_palette(\"husl\", 9)"
   ]
  },
  {
   "cell_type": "code",
   "execution_count": 125,
   "metadata": {},
   "outputs": [
    {
     "data": {
      "text/html": [
       "<div>\n",
       "<style scoped>\n",
       "    .dataframe tbody tr th:only-of-type {\n",
       "        vertical-align: middle;\n",
       "    }\n",
       "\n",
       "    .dataframe tbody tr th {\n",
       "        vertical-align: top;\n",
       "    }\n",
       "\n",
       "    .dataframe thead th {\n",
       "        text-align: right;\n",
       "    }\n",
       "</style>\n",
       "<table border=\"1\" class=\"dataframe\">\n",
       "  <thead>\n",
       "    <tr style=\"text-align: right;\">\n",
       "      <th></th>\n",
       "      <th>time_stamp</th>\n",
       "      <th>user_id</th>\n",
       "      <th>visited</th>\n",
       "    </tr>\n",
       "  </thead>\n",
       "  <tbody>\n",
       "    <tr>\n",
       "      <th>0</th>\n",
       "      <td>2014-04-22 03:53:30</td>\n",
       "      <td>1</td>\n",
       "      <td>1</td>\n",
       "    </tr>\n",
       "    <tr>\n",
       "      <th>1</th>\n",
       "      <td>2013-11-15 03:45:04</td>\n",
       "      <td>2</td>\n",
       "      <td>1</td>\n",
       "    </tr>\n",
       "    <tr>\n",
       "      <th>2</th>\n",
       "      <td>2013-11-29 03:45:04</td>\n",
       "      <td>2</td>\n",
       "      <td>1</td>\n",
       "    </tr>\n",
       "    <tr>\n",
       "      <th>3</th>\n",
       "      <td>2013-12-09 03:45:04</td>\n",
       "      <td>2</td>\n",
       "      <td>1</td>\n",
       "    </tr>\n",
       "    <tr>\n",
       "      <th>4</th>\n",
       "      <td>2013-12-25 03:45:04</td>\n",
       "      <td>2</td>\n",
       "      <td>1</td>\n",
       "    </tr>\n",
       "  </tbody>\n",
       "</table>\n",
       "</div>"
      ],
      "text/plain": [
       "            time_stamp  user_id  visited\n",
       "0  2014-04-22 03:53:30        1        1\n",
       "1  2013-11-15 03:45:04        2        1\n",
       "2  2013-11-29 03:45:04        2        1\n",
       "3  2013-12-09 03:45:04        2        1\n",
       "4  2013-12-25 03:45:04        2        1"
      ]
     },
     "execution_count": 125,
     "metadata": {},
     "output_type": "execute_result"
    }
   ],
   "source": [
    "user_engagement_df = pd.read_csv('takehome_user_engagement.csv')\n",
    "user_engagement_df.head()"
   ]
  },
  {
   "cell_type": "code",
   "execution_count": 126,
   "metadata": {},
   "outputs": [
    {
     "data": {
      "text/plain": [
       "8823"
      ]
     },
     "execution_count": 126,
     "metadata": {},
     "output_type": "execute_result"
    }
   ],
   "source": [
    "user_engagement_df.user_id.nunique()"
   ]
  },
  {
   "cell_type": "markdown",
   "metadata": {},
   "source": [
    "There are a total of 8823 users in the dataset."
   ]
  },
  {
   "cell_type": "code",
   "execution_count": 127,
   "metadata": {},
   "outputs": [
    {
     "data": {
      "text/plain": [
       "time_stamp    object\n",
       "user_id        int64\n",
       "visited        int64\n",
       "dtype: object"
      ]
     },
     "execution_count": 127,
     "metadata": {},
     "output_type": "execute_result"
    }
   ],
   "source": [
    "user_engagement_df.dtypes"
   ]
  },
  {
   "cell_type": "code",
   "execution_count": 128,
   "metadata": {},
   "outputs": [],
   "source": [
    "user_engagement_df['time_stamp'] = user_engagement_df['time_stamp'].astype('datetime64')"
   ]
  },
  {
   "cell_type": "code",
   "execution_count": 129,
   "metadata": {},
   "outputs": [],
   "source": [
    "def to_date_column(dataframe,column:str):\n",
    "    dataframe[\"dt_\"+column] = pd.to_datetime(dataframe[column], format=\"%y%m%d%H\")\n",
    "    dataframe[column+\"_year\"] = dataframe[\"dt_\"+column].dt.year\n",
    "    dataframe[column+\"_month\"] = dataframe[\"dt_\"+column].dt.month\n",
    "    dataframe[column+\"_day\"] = dataframe[\"dt_\"+column].dt.day\n",
    "    dataframe[column+\"_int_hour\"] = dataframe[\"dt_\"+column].dt.hour\n",
    "    dataframe[column+\"_is_weekday\"] = dataframe[\"dt_\"+column].dt.dayofweek\n",
    "    dataframe[column+\"_is_weekend\"] = dataframe.apply(lambda x: x[column+\"_is_weekday\"] in [5, 6], axis=1)"
   ]
  },
  {
   "cell_type": "code",
   "execution_count": 130,
   "metadata": {},
   "outputs": [],
   "source": [
    "to_date_column(user_engagement_df,'time_stamp')"
   ]
  },
  {
   "cell_type": "code",
   "execution_count": 131,
   "metadata": {},
   "outputs": [
    {
     "data": {
      "text/html": [
       "<div>\n",
       "<style scoped>\n",
       "    .dataframe tbody tr th:only-of-type {\n",
       "        vertical-align: middle;\n",
       "    }\n",
       "\n",
       "    .dataframe tbody tr th {\n",
       "        vertical-align: top;\n",
       "    }\n",
       "\n",
       "    .dataframe thead th {\n",
       "        text-align: right;\n",
       "    }\n",
       "</style>\n",
       "<table border=\"1\" class=\"dataframe\">\n",
       "  <thead>\n",
       "    <tr style=\"text-align: right;\">\n",
       "      <th></th>\n",
       "      <th>time_stamp</th>\n",
       "      <th>user_id</th>\n",
       "      <th>visited</th>\n",
       "      <th>dt_time_stamp</th>\n",
       "      <th>time_stamp_year</th>\n",
       "      <th>time_stamp_month</th>\n",
       "      <th>time_stamp_day</th>\n",
       "      <th>time_stamp_int_hour</th>\n",
       "      <th>time_stamp_is_weekday</th>\n",
       "      <th>time_stamp_is_weekend</th>\n",
       "    </tr>\n",
       "  </thead>\n",
       "  <tbody>\n",
       "    <tr>\n",
       "      <th>0</th>\n",
       "      <td>2014-04-22 03:53:30</td>\n",
       "      <td>1</td>\n",
       "      <td>1</td>\n",
       "      <td>2014-04-22 03:53:30</td>\n",
       "      <td>2014</td>\n",
       "      <td>4</td>\n",
       "      <td>22</td>\n",
       "      <td>3</td>\n",
       "      <td>1</td>\n",
       "      <td>False</td>\n",
       "    </tr>\n",
       "    <tr>\n",
       "      <th>1</th>\n",
       "      <td>2013-11-15 03:45:04</td>\n",
       "      <td>2</td>\n",
       "      <td>1</td>\n",
       "      <td>2013-11-15 03:45:04</td>\n",
       "      <td>2013</td>\n",
       "      <td>11</td>\n",
       "      <td>15</td>\n",
       "      <td>3</td>\n",
       "      <td>4</td>\n",
       "      <td>False</td>\n",
       "    </tr>\n",
       "    <tr>\n",
       "      <th>2</th>\n",
       "      <td>2013-11-29 03:45:04</td>\n",
       "      <td>2</td>\n",
       "      <td>1</td>\n",
       "      <td>2013-11-29 03:45:04</td>\n",
       "      <td>2013</td>\n",
       "      <td>11</td>\n",
       "      <td>29</td>\n",
       "      <td>3</td>\n",
       "      <td>4</td>\n",
       "      <td>False</td>\n",
       "    </tr>\n",
       "    <tr>\n",
       "      <th>3</th>\n",
       "      <td>2013-12-09 03:45:04</td>\n",
       "      <td>2</td>\n",
       "      <td>1</td>\n",
       "      <td>2013-12-09 03:45:04</td>\n",
       "      <td>2013</td>\n",
       "      <td>12</td>\n",
       "      <td>9</td>\n",
       "      <td>3</td>\n",
       "      <td>0</td>\n",
       "      <td>False</td>\n",
       "    </tr>\n",
       "    <tr>\n",
       "      <th>4</th>\n",
       "      <td>2013-12-25 03:45:04</td>\n",
       "      <td>2</td>\n",
       "      <td>1</td>\n",
       "      <td>2013-12-25 03:45:04</td>\n",
       "      <td>2013</td>\n",
       "      <td>12</td>\n",
       "      <td>25</td>\n",
       "      <td>3</td>\n",
       "      <td>2</td>\n",
       "      <td>False</td>\n",
       "    </tr>\n",
       "  </tbody>\n",
       "</table>\n",
       "</div>"
      ],
      "text/plain": [
       "           time_stamp  user_id  visited       dt_time_stamp  time_stamp_year  \\\n",
       "0 2014-04-22 03:53:30        1        1 2014-04-22 03:53:30             2014   \n",
       "1 2013-11-15 03:45:04        2        1 2013-11-15 03:45:04             2013   \n",
       "2 2013-11-29 03:45:04        2        1 2013-11-29 03:45:04             2013   \n",
       "3 2013-12-09 03:45:04        2        1 2013-12-09 03:45:04             2013   \n",
       "4 2013-12-25 03:45:04        2        1 2013-12-25 03:45:04             2013   \n",
       "\n",
       "   time_stamp_month  time_stamp_day  time_stamp_int_hour  \\\n",
       "0                 4              22                    3   \n",
       "1                11              15                    3   \n",
       "2                11              29                    3   \n",
       "3                12               9                    3   \n",
       "4                12              25                    3   \n",
       "\n",
       "   time_stamp_is_weekday  time_stamp_is_weekend  \n",
       "0                      1                  False  \n",
       "1                      4                  False  \n",
       "2                      4                  False  \n",
       "3                      0                  False  \n",
       "4                      2                  False  "
      ]
     },
     "execution_count": 131,
     "metadata": {},
     "output_type": "execute_result"
    }
   ],
   "source": [
    "user_engagement_df.head()"
   ]
  },
  {
   "cell_type": "code",
   "execution_count": 132,
   "metadata": {
    "scrolled": false
   },
   "outputs": [
    {
     "data": {
      "text/plain": [
       "<AxesSubplot:xlabel='time_stamp_int_hour', ylabel='count'>"
      ]
     },
     "execution_count": 132,
     "metadata": {},
     "output_type": "execute_result"
    },
    {
     "data": {
      "image/png": "[encoded data removed]",
      "text/plain": [
       "<Figure size 1440x720 with 1 Axes>"
      ]
     },
     "metadata": {},
     "output_type": "display_data"
    }
   ],
   "source": [
    "sns.countplot(x = 'time_stamp_int_hour', data = user_engagement_df, )"
   ]
  },
  {
   "cell_type": "markdown",
   "metadata": {},
   "source": [
    "It appears that most of the logins occur at 17:00 and 22:00."
   ]
  },
  {
   "cell_type": "code",
   "execution_count": 133,
   "metadata": {},
   "outputs": [
    {
     "data": {
      "text/plain": [
       "<AxesSubplot:xlabel='time_stamp_is_weekend', ylabel='count'>"
      ]
     },
     "execution_count": 133,
     "metadata": {},
     "output_type": "execute_result"
    },
    {
     "data": {
      "image/png": "[encoded data removed]",
      "text/plain": [
       "<Figure size 1440x720 with 1 Axes>"
      ]
     },
     "metadata": {},
     "output_type": "display_data"
    }
   ],
   "source": [
    "sns.countplot(x = 'time_stamp_is_weekend', data = user_engagement_df, )"
   ]
  },
  {
   "cell_type": "markdown",
   "metadata": {},
   "source": [
    "Most of the logins are on weekdays."
   ]
  },
  {
   "cell_type": "code",
   "execution_count": 134,
   "metadata": {},
   "outputs": [
    {
     "data": {
      "text/plain": [
       "<AxesSubplot:xlabel='time_stamp_is_weekday', ylabel='count'>"
      ]
     },
     "execution_count": 134,
     "metadata": {},
     "output_type": "execute_result"
    },
    {
     "data": {
      "image/png": "[encoded data removed]",
      "text/plain": [
       "<Figure size 1440x720 with 1 Axes>"
      ]
     },
     "metadata": {},
     "output_type": "display_data"
    }
   ],
   "source": [
    "sns.countplot(x = 'time_stamp_is_weekday', data = user_engagement_df, )"
   ]
  },
  {
   "cell_type": "markdown",
   "metadata": {},
   "source": [
    "The logins on the weekdays show no discernable pattern."
   ]
  },
  {
   "cell_type": "code",
   "execution_count": 135,
   "metadata": {},
   "outputs": [],
   "source": [
    "def logins_in_days(df, days=7, logins=3):\n",
    "    df['date'] = df['time_stamp'].dt.date\n",
    "    #df = df.drop_duplicates(subset='date').sort_values('date')\n",
    "    passed_days = df['date'].diff(periods=logins-1)\n",
    "    return any(passed_days <= dt.timedelta(days=days))"
   ]
  },
  {
   "cell_type": "code",
   "execution_count": 136,
   "metadata": {},
   "outputs": [
    {
     "data": {
      "text/plain": [
       "user_id\n",
       "1    False\n",
       "2     True\n",
       "3    False\n",
       "4    False\n",
       "5    False\n",
       "dtype: bool"
      ]
     },
     "execution_count": 136,
     "metadata": {},
     "output_type": "execute_result"
    }
   ],
   "source": [
    "adopted_users_df = user_engagement_df.groupby('user_id').apply(logins_in_days)\n",
    "adopted_users_df.head()"
   ]
  },
  {
   "cell_type": "code",
   "execution_count": 137,
   "metadata": {},
   "outputs": [
    {
     "data": {
      "text/plain": [
       "Int64Index([ 3623,   906,  1811,  7590,  8068,  9402,  4022,  3269,  9312,\n",
       "             7210,\n",
       "            ...\n",
       "             9284, 11851,  6808,  9318,  8047,  6090,  8464,  5528,  6900,\n",
       "             7310],\n",
       "           dtype='int64', length=2248)"
      ]
     },
     "execution_count": 137,
     "metadata": {},
     "output_type": "execute_result"
    }
   ],
   "source": [
    "user_counts = user_engagement_df[\"user_id\"].value_counts()\n",
    "adopted_users = user_counts[user_counts >= 3]\n",
    "adopted_users.index"
   ]
  },
  {
   "cell_type": "code",
   "execution_count": 138,
   "metadata": {},
   "outputs": [
    {
     "data": {
      "text/html": [
       "<div>\n",
       "<style scoped>\n",
       "    .dataframe tbody tr th:only-of-type {\n",
       "        vertical-align: middle;\n",
       "    }\n",
       "\n",
       "    .dataframe tbody tr th {\n",
       "        vertical-align: top;\n",
       "    }\n",
       "\n",
       "    .dataframe thead th {\n",
       "        text-align: right;\n",
       "    }\n",
       "</style>\n",
       "<table border=\"1\" class=\"dataframe\">\n",
       "  <thead>\n",
       "    <tr style=\"text-align: right;\">\n",
       "      <th></th>\n",
       "      <th>time_stamp</th>\n",
       "      <th>user_id</th>\n",
       "      <th>visited</th>\n",
       "      <th>dt_time_stamp</th>\n",
       "      <th>time_stamp_year</th>\n",
       "      <th>time_stamp_month</th>\n",
       "      <th>time_stamp_day</th>\n",
       "      <th>time_stamp_int_hour</th>\n",
       "      <th>time_stamp_is_weekday</th>\n",
       "      <th>time_stamp_is_weekend</th>\n",
       "      <th>adopted_user</th>\n",
       "    </tr>\n",
       "  </thead>\n",
       "  <tbody>\n",
       "    <tr>\n",
       "      <th>0</th>\n",
       "      <td>2014-04-22 03:53:30</td>\n",
       "      <td>1</td>\n",
       "      <td>1</td>\n",
       "      <td>2014-04-22 03:53:30</td>\n",
       "      <td>2014</td>\n",
       "      <td>4</td>\n",
       "      <td>22</td>\n",
       "      <td>3</td>\n",
       "      <td>1</td>\n",
       "      <td>False</td>\n",
       "      <td>NaN</td>\n",
       "    </tr>\n",
       "    <tr>\n",
       "      <th>1</th>\n",
       "      <td>2013-11-15 03:45:04</td>\n",
       "      <td>2</td>\n",
       "      <td>1</td>\n",
       "      <td>2013-11-15 03:45:04</td>\n",
       "      <td>2013</td>\n",
       "      <td>11</td>\n",
       "      <td>15</td>\n",
       "      <td>3</td>\n",
       "      <td>4</td>\n",
       "      <td>False</td>\n",
       "      <td>1.0</td>\n",
       "    </tr>\n",
       "    <tr>\n",
       "      <th>2</th>\n",
       "      <td>2013-11-29 03:45:04</td>\n",
       "      <td>2</td>\n",
       "      <td>1</td>\n",
       "      <td>2013-11-29 03:45:04</td>\n",
       "      <td>2013</td>\n",
       "      <td>11</td>\n",
       "      <td>29</td>\n",
       "      <td>3</td>\n",
       "      <td>4</td>\n",
       "      <td>False</td>\n",
       "      <td>1.0</td>\n",
       "    </tr>\n",
       "    <tr>\n",
       "      <th>3</th>\n",
       "      <td>2013-12-09 03:45:04</td>\n",
       "      <td>2</td>\n",
       "      <td>1</td>\n",
       "      <td>2013-12-09 03:45:04</td>\n",
       "      <td>2013</td>\n",
       "      <td>12</td>\n",
       "      <td>9</td>\n",
       "      <td>3</td>\n",
       "      <td>0</td>\n",
       "      <td>False</td>\n",
       "      <td>1.0</td>\n",
       "    </tr>\n",
       "    <tr>\n",
       "      <th>4</th>\n",
       "      <td>2013-12-25 03:45:04</td>\n",
       "      <td>2</td>\n",
       "      <td>1</td>\n",
       "      <td>2013-12-25 03:45:04</td>\n",
       "      <td>2013</td>\n",
       "      <td>12</td>\n",
       "      <td>25</td>\n",
       "      <td>3</td>\n",
       "      <td>2</td>\n",
       "      <td>False</td>\n",
       "      <td>1.0</td>\n",
       "    </tr>\n",
       "  </tbody>\n",
       "</table>\n",
       "</div>"
      ],
      "text/plain": [
       "           time_stamp  user_id  visited       dt_time_stamp  time_stamp_year  \\\n",
       "0 2014-04-22 03:53:30        1        1 2014-04-22 03:53:30             2014   \n",
       "1 2013-11-15 03:45:04        2        1 2013-11-15 03:45:04             2013   \n",
       "2 2013-11-29 03:45:04        2        1 2013-11-29 03:45:04             2013   \n",
       "3 2013-12-09 03:45:04        2        1 2013-12-09 03:45:04             2013   \n",
       "4 2013-12-25 03:45:04        2        1 2013-12-25 03:45:04             2013   \n",
       "\n",
       "   time_stamp_month  time_stamp_day  time_stamp_int_hour  \\\n",
       "0                 4              22                    3   \n",
       "1                11              15                    3   \n",
       "2                11              29                    3   \n",
       "3                12               9                    3   \n",
       "4                12              25                    3   \n",
       "\n",
       "   time_stamp_is_weekday  time_stamp_is_weekend  adopted_user  \n",
       "0                      1                  False           NaN  \n",
       "1                      4                  False           1.0  \n",
       "2                      4                  False           1.0  \n",
       "3                      0                  False           1.0  \n",
       "4                      2                  False           1.0  "
      ]
     },
     "execution_count": 138,
     "metadata": {},
     "output_type": "execute_result"
    }
   ],
   "source": [
    "for index, val in adopted_users.iteritems(): \n",
    "    user_engagement_df.loc[user_engagement_df['user_id'] == index, 'adopted_user'] = 1\n",
    "user_engagement_df.head()"
   ]
  },
  {
   "cell_type": "code",
   "execution_count": 139,
   "metadata": {},
   "outputs": [
    {
     "data": {
      "text/html": [
       "<div>\n",
       "<style scoped>\n",
       "    .dataframe tbody tr th:only-of-type {\n",
       "        vertical-align: middle;\n",
       "    }\n",
       "\n",
       "    .dataframe tbody tr th {\n",
       "        vertical-align: top;\n",
       "    }\n",
       "\n",
       "    .dataframe thead th {\n",
       "        text-align: right;\n",
       "    }\n",
       "</style>\n",
       "<table border=\"1\" class=\"dataframe\">\n",
       "  <thead>\n",
       "    <tr style=\"text-align: right;\">\n",
       "      <th></th>\n",
       "      <th>time_stamp</th>\n",
       "      <th>user_id</th>\n",
       "      <th>visited</th>\n",
       "      <th>dt_time_stamp</th>\n",
       "      <th>time_stamp_year</th>\n",
       "      <th>time_stamp_month</th>\n",
       "      <th>time_stamp_day</th>\n",
       "      <th>time_stamp_int_hour</th>\n",
       "      <th>time_stamp_is_weekday</th>\n",
       "      <th>time_stamp_is_weekend</th>\n",
       "      <th>adopted_user</th>\n",
       "    </tr>\n",
       "  </thead>\n",
       "  <tbody>\n",
       "    <tr>\n",
       "      <th>0</th>\n",
       "      <td>2014-04-22 03:53:30</td>\n",
       "      <td>1</td>\n",
       "      <td>1</td>\n",
       "      <td>2014-04-22 03:53:30</td>\n",
       "      <td>2014</td>\n",
       "      <td>4</td>\n",
       "      <td>22</td>\n",
       "      <td>3</td>\n",
       "      <td>1</td>\n",
       "      <td>False</td>\n",
       "      <td>0.0</td>\n",
       "    </tr>\n",
       "    <tr>\n",
       "      <th>1</th>\n",
       "      <td>2013-11-15 03:45:04</td>\n",
       "      <td>2</td>\n",
       "      <td>1</td>\n",
       "      <td>2013-11-15 03:45:04</td>\n",
       "      <td>2013</td>\n",
       "      <td>11</td>\n",
       "      <td>15</td>\n",
       "      <td>3</td>\n",
       "      <td>4</td>\n",
       "      <td>False</td>\n",
       "      <td>1.0</td>\n",
       "    </tr>\n",
       "    <tr>\n",
       "      <th>2</th>\n",
       "      <td>2013-11-29 03:45:04</td>\n",
       "      <td>2</td>\n",
       "      <td>1</td>\n",
       "      <td>2013-11-29 03:45:04</td>\n",
       "      <td>2013</td>\n",
       "      <td>11</td>\n",
       "      <td>29</td>\n",
       "      <td>3</td>\n",
       "      <td>4</td>\n",
       "      <td>False</td>\n",
       "      <td>1.0</td>\n",
       "    </tr>\n",
       "    <tr>\n",
       "      <th>3</th>\n",
       "      <td>2013-12-09 03:45:04</td>\n",
       "      <td>2</td>\n",
       "      <td>1</td>\n",
       "      <td>2013-12-09 03:45:04</td>\n",
       "      <td>2013</td>\n",
       "      <td>12</td>\n",
       "      <td>9</td>\n",
       "      <td>3</td>\n",
       "      <td>0</td>\n",
       "      <td>False</td>\n",
       "      <td>1.0</td>\n",
       "    </tr>\n",
       "    <tr>\n",
       "      <th>4</th>\n",
       "      <td>2013-12-25 03:45:04</td>\n",
       "      <td>2</td>\n",
       "      <td>1</td>\n",
       "      <td>2013-12-25 03:45:04</td>\n",
       "      <td>2013</td>\n",
       "      <td>12</td>\n",
       "      <td>25</td>\n",
       "      <td>3</td>\n",
       "      <td>2</td>\n",
       "      <td>False</td>\n",
       "      <td>1.0</td>\n",
       "    </tr>\n",
       "  </tbody>\n",
       "</table>\n",
       "</div>"
      ],
      "text/plain": [
       "           time_stamp  user_id  visited       dt_time_stamp  time_stamp_year  \\\n",
       "0 2014-04-22 03:53:30        1        1 2014-04-22 03:53:30             2014   \n",
       "1 2013-11-15 03:45:04        2        1 2013-11-15 03:45:04             2013   \n",
       "2 2013-11-29 03:45:04        2        1 2013-11-29 03:45:04             2013   \n",
       "3 2013-12-09 03:45:04        2        1 2013-12-09 03:45:04             2013   \n",
       "4 2013-12-25 03:45:04        2        1 2013-12-25 03:45:04             2013   \n",
       "\n",
       "   time_stamp_month  time_stamp_day  time_stamp_int_hour  \\\n",
       "0                 4              22                    3   \n",
       "1                11              15                    3   \n",
       "2                11              29                    3   \n",
       "3                12               9                    3   \n",
       "4                12              25                    3   \n",
       "\n",
       "   time_stamp_is_weekday  time_stamp_is_weekend  adopted_user  \n",
       "0                      1                  False           0.0  \n",
       "1                      4                  False           1.0  \n",
       "2                      4                  False           1.0  \n",
       "3                      0                  False           1.0  \n",
       "4                      2                  False           1.0  "
      ]
     },
     "execution_count": 139,
     "metadata": {},
     "output_type": "execute_result"
    }
   ],
   "source": [
    "user_engagement_df['adopted_user'] = user_engagement_df['adopted_user'].fillna(0)\n",
    "user_engagement_df.head()"
   ]
  },
  {
   "cell_type": "code",
   "execution_count": 140,
   "metadata": {},
   "outputs": [
    {
     "data": {
      "text/html": [
       "<div>\n",
       "<style scoped>\n",
       "    .dataframe tbody tr th:only-of-type {\n",
       "        vertical-align: middle;\n",
       "    }\n",
       "\n",
       "    .dataframe tbody tr th {\n",
       "        vertical-align: top;\n",
       "    }\n",
       "\n",
       "    .dataframe thead th {\n",
       "        text-align: right;\n",
       "    }\n",
       "</style>\n",
       "<table border=\"1\" class=\"dataframe\">\n",
       "  <thead>\n",
       "    <tr style=\"text-align: right;\">\n",
       "      <th></th>\n",
       "      <th>object_id</th>\n",
       "      <th>creation_time</th>\n",
       "      <th>name</th>\n",
       "      <th>email</th>\n",
       "      <th>creation_source</th>\n",
       "      <th>last_session_creation_time</th>\n",
       "      <th>opted_in_to_mailing_list</th>\n",
       "      <th>enabled_for_marketing_drip</th>\n",
       "      <th>org_id</th>\n",
       "      <th>invited_by_user_id</th>\n",
       "    </tr>\n",
       "  </thead>\n",
       "  <tbody>\n",
       "    <tr>\n",
       "      <th>0</th>\n",
       "      <td>1</td>\n",
       "      <td>2014-04-22 03:53:30</td>\n",
       "      <td>Clausen August</td>\n",
       "      <td>AugustCClausen@yahoo.com</td>\n",
       "      <td>GUEST_INVITE</td>\n",
       "      <td>1.398139e+09</td>\n",
       "      <td>1</td>\n",
       "      <td>0</td>\n",
       "      <td>11</td>\n",
       "      <td>10803.0</td>\n",
       "    </tr>\n",
       "    <tr>\n",
       "      <th>1</th>\n",
       "      <td>2</td>\n",
       "      <td>2013-11-15 03:45:04</td>\n",
       "      <td>Poole Matthew</td>\n",
       "      <td>MatthewPoole@gustr.com</td>\n",
       "      <td>ORG_INVITE</td>\n",
       "      <td>1.396238e+09</td>\n",
       "      <td>0</td>\n",
       "      <td>0</td>\n",
       "      <td>1</td>\n",
       "      <td>316.0</td>\n",
       "    </tr>\n",
       "    <tr>\n",
       "      <th>2</th>\n",
       "      <td>3</td>\n",
       "      <td>2013-03-19 23:14:52</td>\n",
       "      <td>Bottrill Mitchell</td>\n",
       "      <td>MitchellBottrill@gustr.com</td>\n",
       "      <td>ORG_INVITE</td>\n",
       "      <td>1.363735e+09</td>\n",
       "      <td>0</td>\n",
       "      <td>0</td>\n",
       "      <td>94</td>\n",
       "      <td>1525.0</td>\n",
       "    </tr>\n",
       "    <tr>\n",
       "      <th>3</th>\n",
       "      <td>4</td>\n",
       "      <td>2013-05-21 08:09:28</td>\n",
       "      <td>Clausen Nicklas</td>\n",
       "      <td>NicklasSClausen@yahoo.com</td>\n",
       "      <td>GUEST_INVITE</td>\n",
       "      <td>1.369210e+09</td>\n",
       "      <td>0</td>\n",
       "      <td>0</td>\n",
       "      <td>1</td>\n",
       "      <td>5151.0</td>\n",
       "    </tr>\n",
       "    <tr>\n",
       "      <th>4</th>\n",
       "      <td>5</td>\n",
       "      <td>2013-01-17 10:14:20</td>\n",
       "      <td>Raw Grace</td>\n",
       "      <td>GraceRaw@yahoo.com</td>\n",
       "      <td>GUEST_INVITE</td>\n",
       "      <td>1.358850e+09</td>\n",
       "      <td>0</td>\n",
       "      <td>0</td>\n",
       "      <td>193</td>\n",
       "      <td>5240.0</td>\n",
       "    </tr>\n",
       "  </tbody>\n",
       "</table>\n",
       "</div>"
      ],
      "text/plain": [
       "   object_id        creation_time               name  \\\n",
       "0          1  2014-04-22 03:53:30     Clausen August   \n",
       "1          2  2013-11-15 03:45:04      Poole Matthew   \n",
       "2          3  2013-03-19 23:14:52  Bottrill Mitchell   \n",
       "3          4  2013-05-21 08:09:28    Clausen Nicklas   \n",
       "4          5  2013-01-17 10:14:20          Raw Grace   \n",
       "\n",
       "                        email creation_source  last_session_creation_time  \\\n",
       "0    AugustCClausen@yahoo.com    GUEST_INVITE                1.398139e+09   \n",
       "1      MatthewPoole@gustr.com      ORG_INVITE                1.396238e+09   \n",
       "2  MitchellBottrill@gustr.com      ORG_INVITE                1.363735e+09   \n",
       "3   NicklasSClausen@yahoo.com    GUEST_INVITE                1.369210e+09   \n",
       "4          GraceRaw@yahoo.com    GUEST_INVITE                1.358850e+09   \n",
       "\n",
       "   opted_in_to_mailing_list  enabled_for_marketing_drip  org_id  \\\n",
       "0                         1                           0      11   \n",
       "1                         0                           0       1   \n",
       "2                         0                           0      94   \n",
       "3                         0                           0       1   \n",
       "4                         0                           0     193   \n",
       "\n",
       "   invited_by_user_id  \n",
       "0             10803.0  \n",
       "1               316.0  \n",
       "2              1525.0  \n",
       "3              5151.0  \n",
       "4              5240.0  "
      ]
     },
     "execution_count": 140,
     "metadata": {},
     "output_type": "execute_result"
    }
   ],
   "source": [
    "users_df = pd.read_csv('takehome_users.csv', encoding='latin-1')\n",
    "users_df.head()"
   ]
  },
  {
   "cell_type": "code",
   "execution_count": 141,
   "metadata": {},
   "outputs": [
    {
     "data": {
      "text/plain": [
       "12000"
      ]
     },
     "execution_count": 141,
     "metadata": {},
     "output_type": "execute_result"
    }
   ],
   "source": [
    "len(users_df)"
   ]
  },
  {
   "cell_type": "code",
   "execution_count": 142,
   "metadata": {},
   "outputs": [
    {
     "name": "stdout",
     "output_type": "stream",
     "text": [
      "Duplicate Rows except first occurrence based on all columns are :\n",
      "Empty DataFrame\n",
      "Columns: [time_stamp, user_id, visited, dt_time_stamp, time_stamp_year, time_stamp_month, time_stamp_day, time_stamp_int_hour, time_stamp_is_weekday, time_stamp_is_weekend, adopted_user]\n",
      "Index: []\n"
     ]
    }
   ],
   "source": [
    "duplicateRowsDF = user_engagement_df[user_engagement_df.duplicated()]\n",
    "print(\"Duplicate Rows except first occurrence based on all columns are :\")\n",
    "print(duplicateRowsDF)"
   ]
  },
  {
   "cell_type": "code",
   "execution_count": 143,
   "metadata": {},
   "outputs": [
    {
     "name": "stdout",
     "output_type": "stream",
     "text": [
      "Duplicate Rows except first occurrence based on all columns are :\n",
      "Empty DataFrame\n",
      "Columns: [object_id, creation_time, name, email, creation_source, last_session_creation_time, opted_in_to_mailing_list, enabled_for_marketing_drip, org_id, invited_by_user_id]\n",
      "Index: []\n"
     ]
    }
   ],
   "source": [
    "duplicateRowsDF = users_df[users_df.duplicated()]\n",
    "print(\"Duplicate Rows except first occurrence based on all columns are :\")\n",
    "print(duplicateRowsDF)"
   ]
  },
  {
   "cell_type": "code",
   "execution_count": 144,
   "metadata": {},
   "outputs": [],
   "source": [
    "users_df.rename(columns={'object_id': 'user_id'}, inplace=True)"
   ]
  },
  {
   "cell_type": "code",
   "execution_count": 145,
   "metadata": {},
   "outputs": [
    {
     "data": {
      "text/html": [
       "<div>\n",
       "<style scoped>\n",
       "    .dataframe tbody tr th:only-of-type {\n",
       "        vertical-align: middle;\n",
       "    }\n",
       "\n",
       "    .dataframe tbody tr th {\n",
       "        vertical-align: top;\n",
       "    }\n",
       "\n",
       "    .dataframe thead th {\n",
       "        text-align: right;\n",
       "    }\n",
       "</style>\n",
       "<table border=\"1\" class=\"dataframe\">\n",
       "  <thead>\n",
       "    <tr style=\"text-align: right;\">\n",
       "      <th></th>\n",
       "      <th>user_id</th>\n",
       "      <th>creation_time</th>\n",
       "      <th>name</th>\n",
       "      <th>email</th>\n",
       "      <th>creation_source</th>\n",
       "      <th>last_session_creation_time</th>\n",
       "      <th>opted_in_to_mailing_list</th>\n",
       "      <th>enabled_for_marketing_drip</th>\n",
       "      <th>org_id</th>\n",
       "      <th>invited_by_user_id</th>\n",
       "      <th>time_stamp</th>\n",
       "      <th>visited</th>\n",
       "      <th>dt_time_stamp</th>\n",
       "      <th>time_stamp_year</th>\n",
       "      <th>time_stamp_month</th>\n",
       "      <th>time_stamp_day</th>\n",
       "      <th>time_stamp_int_hour</th>\n",
       "      <th>time_stamp_is_weekday</th>\n",
       "      <th>time_stamp_is_weekend</th>\n",
       "      <th>adopted_user</th>\n",
       "    </tr>\n",
       "  </thead>\n",
       "  <tbody>\n",
       "    <tr>\n",
       "      <th>0</th>\n",
       "      <td>1</td>\n",
       "      <td>2014-04-22 03:53:30</td>\n",
       "      <td>Clausen August</td>\n",
       "      <td>AugustCClausen@yahoo.com</td>\n",
       "      <td>GUEST_INVITE</td>\n",
       "      <td>1.398139e+09</td>\n",
       "      <td>1</td>\n",
       "      <td>0</td>\n",
       "      <td>11</td>\n",
       "      <td>10803.0</td>\n",
       "      <td>2014-04-22 03:53:30</td>\n",
       "      <td>1</td>\n",
       "      <td>2014-04-22 03:53:30</td>\n",
       "      <td>2014</td>\n",
       "      <td>4</td>\n",
       "      <td>22</td>\n",
       "      <td>3</td>\n",
       "      <td>1</td>\n",
       "      <td>False</td>\n",
       "      <td>0.0</td>\n",
       "    </tr>\n",
       "    <tr>\n",
       "      <th>1</th>\n",
       "      <td>2</td>\n",
       "      <td>2013-11-15 03:45:04</td>\n",
       "      <td>Poole Matthew</td>\n",
       "      <td>MatthewPoole@gustr.com</td>\n",
       "      <td>ORG_INVITE</td>\n",
       "      <td>1.396238e+09</td>\n",
       "      <td>0</td>\n",
       "      <td>0</td>\n",
       "      <td>1</td>\n",
       "      <td>316.0</td>\n",
       "      <td>2013-11-15 03:45:04</td>\n",
       "      <td>1</td>\n",
       "      <td>2013-11-15 03:45:04</td>\n",
       "      <td>2013</td>\n",
       "      <td>11</td>\n",
       "      <td>15</td>\n",
       "      <td>3</td>\n",
       "      <td>4</td>\n",
       "      <td>False</td>\n",
       "      <td>1.0</td>\n",
       "    </tr>\n",
       "    <tr>\n",
       "      <th>2</th>\n",
       "      <td>2</td>\n",
       "      <td>2013-11-15 03:45:04</td>\n",
       "      <td>Poole Matthew</td>\n",
       "      <td>MatthewPoole@gustr.com</td>\n",
       "      <td>ORG_INVITE</td>\n",
       "      <td>1.396238e+09</td>\n",
       "      <td>0</td>\n",
       "      <td>0</td>\n",
       "      <td>1</td>\n",
       "      <td>316.0</td>\n",
       "      <td>2013-11-29 03:45:04</td>\n",
       "      <td>1</td>\n",
       "      <td>2013-11-29 03:45:04</td>\n",
       "      <td>2013</td>\n",
       "      <td>11</td>\n",
       "      <td>29</td>\n",
       "      <td>3</td>\n",
       "      <td>4</td>\n",
       "      <td>False</td>\n",
       "      <td>1.0</td>\n",
       "    </tr>\n",
       "    <tr>\n",
       "      <th>3</th>\n",
       "      <td>2</td>\n",
       "      <td>2013-11-15 03:45:04</td>\n",
       "      <td>Poole Matthew</td>\n",
       "      <td>MatthewPoole@gustr.com</td>\n",
       "      <td>ORG_INVITE</td>\n",
       "      <td>1.396238e+09</td>\n",
       "      <td>0</td>\n",
       "      <td>0</td>\n",
       "      <td>1</td>\n",
       "      <td>316.0</td>\n",
       "      <td>2013-12-09 03:45:04</td>\n",
       "      <td>1</td>\n",
       "      <td>2013-12-09 03:45:04</td>\n",
       "      <td>2013</td>\n",
       "      <td>12</td>\n",
       "      <td>9</td>\n",
       "      <td>3</td>\n",
       "      <td>0</td>\n",
       "      <td>False</td>\n",
       "      <td>1.0</td>\n",
       "    </tr>\n",
       "    <tr>\n",
       "      <th>4</th>\n",
       "      <td>2</td>\n",
       "      <td>2013-11-15 03:45:04</td>\n",
       "      <td>Poole Matthew</td>\n",
       "      <td>MatthewPoole@gustr.com</td>\n",
       "      <td>ORG_INVITE</td>\n",
       "      <td>1.396238e+09</td>\n",
       "      <td>0</td>\n",
       "      <td>0</td>\n",
       "      <td>1</td>\n",
       "      <td>316.0</td>\n",
       "      <td>2013-12-25 03:45:04</td>\n",
       "      <td>1</td>\n",
       "      <td>2013-12-25 03:45:04</td>\n",
       "      <td>2013</td>\n",
       "      <td>12</td>\n",
       "      <td>25</td>\n",
       "      <td>3</td>\n",
       "      <td>2</td>\n",
       "      <td>False</td>\n",
       "      <td>1.0</td>\n",
       "    </tr>\n",
       "  </tbody>\n",
       "</table>\n",
       "</div>"
      ],
      "text/plain": [
       "   user_id        creation_time            name                     email  \\\n",
       "0        1  2014-04-22 03:53:30  Clausen August  AugustCClausen@yahoo.com   \n",
       "1        2  2013-11-15 03:45:04   Poole Matthew    MatthewPoole@gustr.com   \n",
       "2        2  2013-11-15 03:45:04   Poole Matthew    MatthewPoole@gustr.com   \n",
       "3        2  2013-11-15 03:45:04   Poole Matthew    MatthewPoole@gustr.com   \n",
       "4        2  2013-11-15 03:45:04   Poole Matthew    MatthewPoole@gustr.com   \n",
       "\n",
       "  creation_source  last_session_creation_time  opted_in_to_mailing_list  \\\n",
       "0    GUEST_INVITE                1.398139e+09                         1   \n",
       "1      ORG_INVITE                1.396238e+09                         0   \n",
       "2      ORG_INVITE                1.396238e+09                         0   \n",
       "3      ORG_INVITE                1.396238e+09                         0   \n",
       "4      ORG_INVITE                1.396238e+09                         0   \n",
       "\n",
       "   enabled_for_marketing_drip  org_id  invited_by_user_id          time_stamp  \\\n",
       "0                           0      11             10803.0 2014-04-22 03:53:30   \n",
       "1                           0       1               316.0 2013-11-15 03:45:04   \n",
       "2                           0       1               316.0 2013-11-29 03:45:04   \n",
       "3                           0       1               316.0 2013-12-09 03:45:04   \n",
       "4                           0       1               316.0 2013-12-25 03:45:04   \n",
       "\n",
       "   visited       dt_time_stamp  time_stamp_year  time_stamp_month  \\\n",
       "0        1 2014-04-22 03:53:30             2014                 4   \n",
       "1        1 2013-11-15 03:45:04             2013                11   \n",
       "2        1 2013-11-29 03:45:04             2013                11   \n",
       "3        1 2013-12-09 03:45:04             2013                12   \n",
       "4        1 2013-12-25 03:45:04             2013                12   \n",
       "\n",
       "   time_stamp_day  time_stamp_int_hour  time_stamp_is_weekday  \\\n",
       "0              22                    3                      1   \n",
       "1              15                    3                      4   \n",
       "2              29                    3                      4   \n",
       "3               9                    3                      0   \n",
       "4              25                    3                      2   \n",
       "\n",
       "   time_stamp_is_weekend  adopted_user  \n",
       "0                  False           0.0  \n",
       "1                  False           1.0  \n",
       "2                  False           1.0  \n",
       "3                  False           1.0  \n",
       "4                  False           1.0  "
      ]
     },
     "execution_count": 145,
     "metadata": {},
     "output_type": "execute_result"
    }
   ],
   "source": [
    "df_raw = pd.merge(users_df,user_engagement_df,how='inner',on='user_id')\n",
    "df_raw.head()"
   ]
  },
  {
   "cell_type": "code",
   "execution_count": 146,
   "metadata": {},
   "outputs": [
    {
     "data": {
      "text/plain": [
       "207917"
      ]
     },
     "execution_count": 146,
     "metadata": {},
     "output_type": "execute_result"
    }
   ],
   "source": [
    "len(df_raw)"
   ]
  },
  {
   "cell_type": "code",
   "execution_count": 147,
   "metadata": {},
   "outputs": [
    {
     "name": "stdout",
     "output_type": "stream",
     "text": [
      "Duplicate Rows except first occurrence based on all columns are :\n",
      "Empty DataFrame\n",
      "Columns: [user_id, creation_time, name, email, creation_source, last_session_creation_time, opted_in_to_mailing_list, enabled_for_marketing_drip, org_id, invited_by_user_id, time_stamp, visited, dt_time_stamp, time_stamp_year, time_stamp_month, time_stamp_day, time_stamp_int_hour, time_stamp_is_weekday, time_stamp_is_weekend, adopted_user]\n",
      "Index: []\n"
     ]
    }
   ],
   "source": [
    "duplicateRowsDF = df_raw[df_raw.duplicated()]\n",
    "print(\"Duplicate Rows except first occurrence based on all columns are :\")\n",
    "print(duplicateRowsDF)"
   ]
  },
  {
   "cell_type": "code",
   "execution_count": 148,
   "metadata": {},
   "outputs": [
    {
     "data": {
      "text/plain": [
       "<AxesSubplot:xlabel='creation_source', ylabel='count'>"
      ]
     },
     "execution_count": 148,
     "metadata": {},
     "output_type": "execute_result"
    },
    {
     "data": {
      "image/png": "[encoded data removed]",
      "text/plain": [
       "<Figure size 1440x720 with 1 Axes>"
      ]
     },
     "metadata": {},
     "output_type": "display_data"
    }
   ],
   "source": [
    "sns.countplot(x='creation_source', data=df_raw, hue='adopted_user')"
   ]
  },
  {
   "cell_type": "markdown",
   "metadata": {},
   "source": [
    "Most of the adopted users are from the organizational invite."
   ]
  },
  {
   "cell_type": "code",
   "execution_count": 149,
   "metadata": {},
   "outputs": [
    {
     "data": {
      "text/plain": [
       "user_id                                int64\n",
       "creation_time                         object\n",
       "name                                  object\n",
       "email                                 object\n",
       "creation_source                       object\n",
       "last_session_creation_time           float64\n",
       "opted_in_to_mailing_list               int64\n",
       "enabled_for_marketing_drip             int64\n",
       "org_id                                 int64\n",
       "invited_by_user_id                   float64\n",
       "time_stamp                    datetime64[ns]\n",
       "visited                                int64\n",
       "dt_time_stamp                 datetime64[ns]\n",
       "time_stamp_year                        int64\n",
       "time_stamp_month                       int64\n",
       "time_stamp_day                         int64\n",
       "time_stamp_int_hour                    int64\n",
       "time_stamp_is_weekday                  int64\n",
       "time_stamp_is_weekend                   bool\n",
       "adopted_user                         float64\n",
       "dtype: object"
      ]
     },
     "execution_count": 149,
     "metadata": {},
     "output_type": "execute_result"
    }
   ],
   "source": [
    "df_raw.dtypes"
   ]
  },
  {
   "cell_type": "code",
   "execution_count": 150,
   "metadata": {},
   "outputs": [
    {
     "data": {
      "text/html": [
       "<div>\n",
       "<style scoped>\n",
       "    .dataframe tbody tr th:only-of-type {\n",
       "        vertical-align: middle;\n",
       "    }\n",
       "\n",
       "    .dataframe tbody tr th {\n",
       "        vertical-align: top;\n",
       "    }\n",
       "\n",
       "    .dataframe thead th {\n",
       "        text-align: right;\n",
       "    }\n",
       "</style>\n",
       "<table border=\"1\" class=\"dataframe\">\n",
       "  <thead>\n",
       "    <tr style=\"text-align: right;\">\n",
       "      <th></th>\n",
       "      <th>creation_time</th>\n",
       "      <th>creation_source</th>\n",
       "      <th>last_session_creation_time</th>\n",
       "      <th>opted_in_to_mailing_list</th>\n",
       "      <th>enabled_for_marketing_drip</th>\n",
       "      <th>time_stamp</th>\n",
       "      <th>visited</th>\n",
       "      <th>dt_time_stamp</th>\n",
       "      <th>time_stamp_year</th>\n",
       "      <th>time_stamp_month</th>\n",
       "      <th>time_stamp_day</th>\n",
       "      <th>time_stamp_int_hour</th>\n",
       "      <th>time_stamp_is_weekday</th>\n",
       "      <th>time_stamp_is_weekend</th>\n",
       "      <th>adopted_user</th>\n",
       "    </tr>\n",
       "  </thead>\n",
       "  <tbody>\n",
       "    <tr>\n",
       "      <th>0</th>\n",
       "      <td>2014-04-22 03:53:30</td>\n",
       "      <td>GUEST_INVITE</td>\n",
       "      <td>1.398139e+09</td>\n",
       "      <td>1</td>\n",
       "      <td>0</td>\n",
       "      <td>2014-04-22 03:53:30</td>\n",
       "      <td>1</td>\n",
       "      <td>2014-04-22 03:53:30</td>\n",
       "      <td>2014</td>\n",
       "      <td>4</td>\n",
       "      <td>22</td>\n",
       "      <td>3</td>\n",
       "      <td>1</td>\n",
       "      <td>False</td>\n",
       "      <td>0.0</td>\n",
       "    </tr>\n",
       "    <tr>\n",
       "      <th>1</th>\n",
       "      <td>2013-11-15 03:45:04</td>\n",
       "      <td>ORG_INVITE</td>\n",
       "      <td>1.396238e+09</td>\n",
       "      <td>0</td>\n",
       "      <td>0</td>\n",
       "      <td>2013-11-15 03:45:04</td>\n",
       "      <td>1</td>\n",
       "      <td>2013-11-15 03:45:04</td>\n",
       "      <td>2013</td>\n",
       "      <td>11</td>\n",
       "      <td>15</td>\n",
       "      <td>3</td>\n",
       "      <td>4</td>\n",
       "      <td>False</td>\n",
       "      <td>1.0</td>\n",
       "    </tr>\n",
       "    <tr>\n",
       "      <th>2</th>\n",
       "      <td>2013-11-15 03:45:04</td>\n",
       "      <td>ORG_INVITE</td>\n",
       "      <td>1.396238e+09</td>\n",
       "      <td>0</td>\n",
       "      <td>0</td>\n",
       "      <td>2013-11-29 03:45:04</td>\n",
       "      <td>1</td>\n",
       "      <td>2013-11-29 03:45:04</td>\n",
       "      <td>2013</td>\n",
       "      <td>11</td>\n",
       "      <td>29</td>\n",
       "      <td>3</td>\n",
       "      <td>4</td>\n",
       "      <td>False</td>\n",
       "      <td>1.0</td>\n",
       "    </tr>\n",
       "    <tr>\n",
       "      <th>3</th>\n",
       "      <td>2013-11-15 03:45:04</td>\n",
       "      <td>ORG_INVITE</td>\n",
       "      <td>1.396238e+09</td>\n",
       "      <td>0</td>\n",
       "      <td>0</td>\n",
       "      <td>2013-12-09 03:45:04</td>\n",
       "      <td>1</td>\n",
       "      <td>2013-12-09 03:45:04</td>\n",
       "      <td>2013</td>\n",
       "      <td>12</td>\n",
       "      <td>9</td>\n",
       "      <td>3</td>\n",
       "      <td>0</td>\n",
       "      <td>False</td>\n",
       "      <td>1.0</td>\n",
       "    </tr>\n",
       "    <tr>\n",
       "      <th>4</th>\n",
       "      <td>2013-11-15 03:45:04</td>\n",
       "      <td>ORG_INVITE</td>\n",
       "      <td>1.396238e+09</td>\n",
       "      <td>0</td>\n",
       "      <td>0</td>\n",
       "      <td>2013-12-25 03:45:04</td>\n",
       "      <td>1</td>\n",
       "      <td>2013-12-25 03:45:04</td>\n",
       "      <td>2013</td>\n",
       "      <td>12</td>\n",
       "      <td>25</td>\n",
       "      <td>3</td>\n",
       "      <td>2</td>\n",
       "      <td>False</td>\n",
       "      <td>1.0</td>\n",
       "    </tr>\n",
       "  </tbody>\n",
       "</table>\n",
       "</div>"
      ],
      "text/plain": [
       "         creation_time creation_source  last_session_creation_time  \\\n",
       "0  2014-04-22 03:53:30    GUEST_INVITE                1.398139e+09   \n",
       "1  2013-11-15 03:45:04      ORG_INVITE                1.396238e+09   \n",
       "2  2013-11-15 03:45:04      ORG_INVITE                1.396238e+09   \n",
       "3  2013-11-15 03:45:04      ORG_INVITE                1.396238e+09   \n",
       "4  2013-11-15 03:45:04      ORG_INVITE                1.396238e+09   \n",
       "\n",
       "   opted_in_to_mailing_list  enabled_for_marketing_drip          time_stamp  \\\n",
       "0                         1                           0 2014-04-22 03:53:30   \n",
       "1                         0                           0 2013-11-15 03:45:04   \n",
       "2                         0                           0 2013-11-29 03:45:04   \n",
       "3                         0                           0 2013-12-09 03:45:04   \n",
       "4                         0                           0 2013-12-25 03:45:04   \n",
       "\n",
       "   visited       dt_time_stamp  time_stamp_year  time_stamp_month  \\\n",
       "0        1 2014-04-22 03:53:30             2014                 4   \n",
       "1        1 2013-11-15 03:45:04             2013                11   \n",
       "2        1 2013-11-29 03:45:04             2013                11   \n",
       "3        1 2013-12-09 03:45:04             2013                12   \n",
       "4        1 2013-12-25 03:45:04             2013                12   \n",
       "\n",
       "   time_stamp_day  time_stamp_int_hour  time_stamp_is_weekday  \\\n",
       "0              22                    3                      1   \n",
       "1              15                    3                      4   \n",
       "2              29                    3                      4   \n",
       "3               9                    3                      0   \n",
       "4              25                    3                      2   \n",
       "\n",
       "   time_stamp_is_weekend  adopted_user  \n",
       "0                  False           0.0  \n",
       "1                  False           1.0  \n",
       "2                  False           1.0  \n",
       "3                  False           1.0  \n",
       "4                  False           1.0  "
      ]
     },
     "execution_count": 150,
     "metadata": {},
     "output_type": "execute_result"
    }
   ],
   "source": [
    "df_raw.drop(['user_id','name','email','org_id','invited_by_user_id'],axis=1,inplace=True)\n",
    "df_raw.head()"
   ]
  },
  {
   "cell_type": "code",
   "execution_count": 151,
   "metadata": {},
   "outputs": [
    {
     "data": {
      "text/plain": [
       "creation_time                 datetime64[ns]\n",
       "creation_source                       object\n",
       "last_session_creation_time    datetime64[ns]\n",
       "opted_in_to_mailing_list               int64\n",
       "enabled_for_marketing_drip             int64\n",
       "time_stamp                    datetime64[ns]\n",
       "visited                                int64\n",
       "dt_time_stamp                 datetime64[ns]\n",
       "time_stamp_year                        int64\n",
       "time_stamp_month                       int64\n",
       "time_stamp_day                         int64\n",
       "time_stamp_int_hour                    int64\n",
       "time_stamp_is_weekday                  int64\n",
       "time_stamp_is_weekend                   bool\n",
       "adopted_user                         float64\n",
       "dtype: object"
      ]
     },
     "execution_count": 151,
     "metadata": {},
     "output_type": "execute_result"
    }
   ],
   "source": [
    "df_raw['last_session_creation_time'] = df_raw['last_session_creation_time'].astype('datetime64[ns]')\n",
    "df_raw['creation_time'] = df_raw['creation_time'].astype('datetime64[ns]')\n",
    "df_raw.dtypes"
   ]
  },
  {
   "cell_type": "code",
   "execution_count": 152,
   "metadata": {},
   "outputs": [
    {
     "data": {
      "text/plain": [
       "creation_time                            datetime64[ns]\n",
       "creation_source                                  object\n",
       "last_session_creation_time               datetime64[ns]\n",
       "opted_in_to_mailing_list                          int64\n",
       "enabled_for_marketing_drip                        int64\n",
       "time_stamp                               datetime64[ns]\n",
       "visited                                           int64\n",
       "dt_time_stamp                            datetime64[ns]\n",
       "time_stamp_year                                   int64\n",
       "time_stamp_month                                  int64\n",
       "time_stamp_day                                    int64\n",
       "time_stamp_int_hour                               int64\n",
       "time_stamp_is_weekday                             int64\n",
       "time_stamp_is_weekend                              bool\n",
       "adopted_user                                    float64\n",
       "dt_creation_time                         datetime64[ns]\n",
       "creation_time_year                                int64\n",
       "creation_time_month                               int64\n",
       "creation_time_day                                 int64\n",
       "creation_time_int_hour                            int64\n",
       "creation_time_is_weekday                          int64\n",
       "creation_time_is_weekend                           bool\n",
       "dt_last_session_creation_time            datetime64[ns]\n",
       "last_session_creation_time_year                   int64\n",
       "last_session_creation_time_month                  int64\n",
       "last_session_creation_time_day                    int64\n",
       "last_session_creation_time_int_hour               int64\n",
       "last_session_creation_time_is_weekday             int64\n",
       "last_session_creation_time_is_weekend              bool\n",
       "dtype: object"
      ]
     },
     "execution_count": 152,
     "metadata": {},
     "output_type": "execute_result"
    }
   ],
   "source": [
    "to_date_column(df_raw,'creation_time')\n",
    "to_date_column(df_raw,'last_session_creation_time')\n",
    "df_raw.dtypes"
   ]
  },
  {
   "cell_type": "code",
   "execution_count": 153,
   "metadata": {},
   "outputs": [],
   "source": [
    "X = df_raw.drop(['creation_time','last_session_creation_time','time_stamp','dt_time_stamp','dt_creation_time','dt_last_session_creation_time','adopted_user'],axis=1)\n",
    "y = df_raw['adopted_user']"
   ]
  },
  {
   "cell_type": "code",
   "execution_count": 154,
   "metadata": {},
   "outputs": [],
   "source": [
    "label_encoder = LabelEncoder()\n",
    "for x in X.columns:\n",
    "    label_encoder.fit(X[x])\n",
    "    X[x] = label_encoder.transform(X[x])"
   ]
  },
  {
   "cell_type": "code",
   "execution_count": 155,
   "metadata": {},
   "outputs": [],
   "source": [
    "X_train, X_test, y_train, y_test = train_test_split(X, y, test_size=0.25, random_state=666)"
   ]
  },
  {
   "cell_type": "code",
   "execution_count": 166,
   "metadata": {},
   "outputs": [],
   "source": [
    "y_train = y_train.to_frame(\"adopted_user\")\n",
    "y_test = y_test.to_frame(\"adopted_user\")"
   ]
  },
  {
   "cell_type": "code",
   "execution_count": 156,
   "metadata": {},
   "outputs": [
    {
     "data": {
      "text/html": [
       "<div>\n",
       "<style scoped>\n",
       "    .dataframe tbody tr th:only-of-type {\n",
       "        vertical-align: middle;\n",
       "    }\n",
       "\n",
       "    .dataframe tbody tr th {\n",
       "        vertical-align: top;\n",
       "    }\n",
       "\n",
       "    .dataframe thead th {\n",
       "        text-align: right;\n",
       "    }\n",
       "</style>\n",
       "<table border=\"1\" class=\"dataframe\">\n",
       "  <thead>\n",
       "    <tr style=\"text-align: right;\">\n",
       "      <th></th>\n",
       "      <th>creation_source</th>\n",
       "      <th>opted_in_to_mailing_list</th>\n",
       "      <th>enabled_for_marketing_drip</th>\n",
       "      <th>visited</th>\n",
       "      <th>time_stamp_year</th>\n",
       "      <th>time_stamp_month</th>\n",
       "      <th>time_stamp_day</th>\n",
       "      <th>time_stamp_int_hour</th>\n",
       "      <th>time_stamp_is_weekday</th>\n",
       "      <th>time_stamp_is_weekend</th>\n",
       "      <th>...</th>\n",
       "      <th>creation_time_day</th>\n",
       "      <th>creation_time_int_hour</th>\n",
       "      <th>creation_time_is_weekday</th>\n",
       "      <th>creation_time_is_weekend</th>\n",
       "      <th>last_session_creation_time_year</th>\n",
       "      <th>last_session_creation_time_month</th>\n",
       "      <th>last_session_creation_time_day</th>\n",
       "      <th>last_session_creation_time_int_hour</th>\n",
       "      <th>last_session_creation_time_is_weekday</th>\n",
       "      <th>last_session_creation_time_is_weekend</th>\n",
       "    </tr>\n",
       "  </thead>\n",
       "  <tbody>\n",
       "    <tr>\n",
       "      <th>87297</th>\n",
       "      <td>1</td>\n",
       "      <td>0</td>\n",
       "      <td>0</td>\n",
       "      <td>0</td>\n",
       "      <td>1</td>\n",
       "      <td>11</td>\n",
       "      <td>2</td>\n",
       "      <td>18</td>\n",
       "      <td>1</td>\n",
       "      <td>0</td>\n",
       "      <td>...</td>\n",
       "      <td>0</td>\n",
       "      <td>18</td>\n",
       "      <td>1</td>\n",
       "      <td>0</td>\n",
       "      <td>0</td>\n",
       "      <td>0</td>\n",
       "      <td>0</td>\n",
       "      <td>0</td>\n",
       "      <td>0</td>\n",
       "      <td>0</td>\n",
       "    </tr>\n",
       "    <tr>\n",
       "      <th>164741</th>\n",
       "      <td>1</td>\n",
       "      <td>0</td>\n",
       "      <td>0</td>\n",
       "      <td>0</td>\n",
       "      <td>1</td>\n",
       "      <td>5</td>\n",
       "      <td>28</td>\n",
       "      <td>13</td>\n",
       "      <td>5</td>\n",
       "      <td>1</td>\n",
       "      <td>...</td>\n",
       "      <td>15</td>\n",
       "      <td>13</td>\n",
       "      <td>5</td>\n",
       "      <td>1</td>\n",
       "      <td>0</td>\n",
       "      <td>0</td>\n",
       "      <td>0</td>\n",
       "      <td>0</td>\n",
       "      <td>0</td>\n",
       "      <td>0</td>\n",
       "    </tr>\n",
       "    <tr>\n",
       "      <th>134021</th>\n",
       "      <td>0</td>\n",
       "      <td>1</td>\n",
       "      <td>0</td>\n",
       "      <td>0</td>\n",
       "      <td>2</td>\n",
       "      <td>1</td>\n",
       "      <td>1</td>\n",
       "      <td>9</td>\n",
       "      <td>6</td>\n",
       "      <td>1</td>\n",
       "      <td>...</td>\n",
       "      <td>15</td>\n",
       "      <td>9</td>\n",
       "      <td>1</td>\n",
       "      <td>0</td>\n",
       "      <td>0</td>\n",
       "      <td>0</td>\n",
       "      <td>0</td>\n",
       "      <td>0</td>\n",
       "      <td>0</td>\n",
       "      <td>0</td>\n",
       "    </tr>\n",
       "    <tr>\n",
       "      <th>147280</th>\n",
       "      <td>1</td>\n",
       "      <td>0</td>\n",
       "      <td>0</td>\n",
       "      <td>0</td>\n",
       "      <td>2</td>\n",
       "      <td>2</td>\n",
       "      <td>18</td>\n",
       "      <td>3</td>\n",
       "      <td>2</td>\n",
       "      <td>0</td>\n",
       "      <td>...</td>\n",
       "      <td>14</td>\n",
       "      <td>3</td>\n",
       "      <td>4</td>\n",
       "      <td>0</td>\n",
       "      <td>0</td>\n",
       "      <td>0</td>\n",
       "      <td>0</td>\n",
       "      <td>0</td>\n",
       "      <td>0</td>\n",
       "      <td>0</td>\n",
       "    </tr>\n",
       "    <tr>\n",
       "      <th>42655</th>\n",
       "      <td>4</td>\n",
       "      <td>0</td>\n",
       "      <td>0</td>\n",
       "      <td>0</td>\n",
       "      <td>2</td>\n",
       "      <td>3</td>\n",
       "      <td>15</td>\n",
       "      <td>22</td>\n",
       "      <td>2</td>\n",
       "      <td>0</td>\n",
       "      <td>...</td>\n",
       "      <td>7</td>\n",
       "      <td>22</td>\n",
       "      <td>4</td>\n",
       "      <td>0</td>\n",
       "      <td>0</td>\n",
       "      <td>0</td>\n",
       "      <td>0</td>\n",
       "      <td>0</td>\n",
       "      <td>0</td>\n",
       "      <td>0</td>\n",
       "    </tr>\n",
       "  </tbody>\n",
       "</table>\n",
       "<p>5 rows × 22 columns</p>\n",
       "</div>"
      ],
      "text/plain": [
       "        creation_source  opted_in_to_mailing_list  enabled_for_marketing_drip  \\\n",
       "87297                 1                         0                           0   \n",
       "164741                1                         0                           0   \n",
       "134021                0                         1                           0   \n",
       "147280                1                         0                           0   \n",
       "42655                 4                         0                           0   \n",
       "\n",
       "        visited  time_stamp_year  time_stamp_month  time_stamp_day  \\\n",
       "87297         0                1                11               2   \n",
       "164741        0                1                 5              28   \n",
       "134021        0                2                 1               1   \n",
       "147280        0                2                 2              18   \n",
       "42655         0                2                 3              15   \n",
       "\n",
       "        time_stamp_int_hour  time_stamp_is_weekday  time_stamp_is_weekend  \\\n",
       "87297                    18                      1                      0   \n",
       "164741                   13                      5                      1   \n",
       "134021                    9                      6                      1   \n",
       "147280                    3                      2                      0   \n",
       "42655                    22                      2                      0   \n",
       "\n",
       "        ...  creation_time_day  creation_time_int_hour  \\\n",
       "87297   ...                  0                      18   \n",
       "164741  ...                 15                      13   \n",
       "134021  ...                 15                       9   \n",
       "147280  ...                 14                       3   \n",
       "42655   ...                  7                      22   \n",
       "\n",
       "        creation_time_is_weekday  creation_time_is_weekend  \\\n",
       "87297                          1                         0   \n",
       "164741                         5                         1   \n",
       "134021                         1                         0   \n",
       "147280                         4                         0   \n",
       "42655                          4                         0   \n",
       "\n",
       "        last_session_creation_time_year  last_session_creation_time_month  \\\n",
       "87297                                 0                                 0   \n",
       "164741                                0                                 0   \n",
       "134021                                0                                 0   \n",
       "147280                                0                                 0   \n",
       "42655                                 0                                 0   \n",
       "\n",
       "        last_session_creation_time_day  last_session_creation_time_int_hour  \\\n",
       "87297                                0                                    0   \n",
       "164741                               0                                    0   \n",
       "134021                               0                                    0   \n",
       "147280                               0                                    0   \n",
       "42655                                0                                    0   \n",
       "\n",
       "        last_session_creation_time_is_weekday  \\\n",
       "87297                                       0   \n",
       "164741                                      0   \n",
       "134021                                      0   \n",
       "147280                                      0   \n",
       "42655                                       0   \n",
       "\n",
       "        last_session_creation_time_is_weekend  \n",
       "87297                                       0  \n",
       "164741                                      0  \n",
       "134021                                      0  \n",
       "147280                                      0  \n",
       "42655                                       0  \n",
       "\n",
       "[5 rows x 22 columns]"
      ]
     },
     "execution_count": 156,
     "metadata": {},
     "output_type": "execute_result"
    }
   ],
   "source": [
    "X_train.head()"
   ]
  },
  {
   "cell_type": "code",
   "execution_count": 157,
   "metadata": {},
   "outputs": [
    {
     "name": "stderr",
     "output_type": "stream",
     "text": [
      "[Parallel(n_jobs=1)]: Using backend SequentialBackend with 1 concurrent workers.\n",
      "/Users/krishnasreenivas/opt/anaconda3/lib/python3.8/site-packages/sklearn/linear_model/_logistic.py:762: ConvergenceWarning: lbfgs failed to converge (status=1):\n",
      "STOP: TOTAL NO. of ITERATIONS REACHED LIMIT.\n",
      "\n",
      "Increase the number of iterations (max_iter) or scale the data as shown in:\n",
      "    https://scikit-learn.org/stable/modules/preprocessing.html\n",
      "Please also refer to the documentation for alternative solver options:\n",
      "    https://scikit-learn.org/stable/modules/linear_model.html#logistic-regression\n",
      "  n_iter_i = _check_optimize_result(\n",
      "[Parallel(n_jobs=1)]: Done   1 out of   1 | elapsed:    1.1s finished\n"
     ]
    }
   ],
   "source": [
    "from sklearn.linear_model import LogisticRegression\n",
    "\n",
    "clf = LogisticRegression(verbose=True)\n",
    "clf.fit(X_train, y_train)\n",
    "\n",
    "\n",
    "y_test_pred = clf.predict(X_test)\n",
    "y_train_pred = clf.predict(X_train)"
   ]
  },
  {
   "cell_type": "code",
   "execution_count": 158,
   "metadata": {},
   "outputs": [
    {
     "name": "stdout",
     "output_type": "stream",
     "text": [
      "[[-1.98858507e-01 -3.72990035e-01 -4.28038969e-02  0.00000000e+00\n",
      "   2.84085352e+01  2.33667496e+00  6.43752714e-02 -1.19400777e-03\n",
      "  -1.86536550e-01  8.14710958e-01 -2.87494695e+01 -2.38248437e+00\n",
      "  -7.60208481e-02 -1.19400777e-03 -1.44892397e-01  7.36254469e-01\n",
      "   0.00000000e+00  0.00000000e+00  0.00000000e+00  0.00000000e+00\n",
      "   0.00000000e+00  0.00000000e+00]]\n",
      "Index(['creation_source', 'opted_in_to_mailing_list',\n",
      "       'enabled_for_marketing_drip', 'visited', 'time_stamp_year',\n",
      "       'time_stamp_month', 'time_stamp_day', 'time_stamp_int_hour',\n",
      "       'time_stamp_is_weekday', 'time_stamp_is_weekend', 'creation_time_year',\n",
      "       'creation_time_month', 'creation_time_day', 'creation_time_int_hour',\n",
      "       'creation_time_is_weekday', 'creation_time_is_weekend',\n",
      "       'last_session_creation_time_year', 'last_session_creation_time_month',\n",
      "       'last_session_creation_time_day', 'last_session_creation_time_int_hour',\n",
      "       'last_session_creation_time_is_weekday',\n",
      "       'last_session_creation_time_is_weekend'],\n",
      "      dtype='object')\n"
     ]
    }
   ],
   "source": [
    "print(clf.coef_)\n",
    "print(X_train.columns)"
   ]
  },
  {
   "cell_type": "code",
   "execution_count": 159,
   "metadata": {},
   "outputs": [
    {
     "data": {
      "text/html": [
       "<div>\n",
       "<style scoped>\n",
       "    .dataframe tbody tr th:only-of-type {\n",
       "        vertical-align: middle;\n",
       "    }\n",
       "\n",
       "    .dataframe tbody tr th {\n",
       "        vertical-align: top;\n",
       "    }\n",
       "\n",
       "    .dataframe thead th {\n",
       "        text-align: right;\n",
       "    }\n",
       "</style>\n",
       "<table border=\"1\" class=\"dataframe\">\n",
       "  <thead>\n",
       "    <tr style=\"text-align: right;\">\n",
       "      <th></th>\n",
       "      <th>features</th>\n",
       "      <th>coef</th>\n",
       "    </tr>\n",
       "  </thead>\n",
       "  <tbody>\n",
       "    <tr>\n",
       "      <th>4</th>\n",
       "      <td>time_stamp_year</td>\n",
       "      <td>28.408535</td>\n",
       "    </tr>\n",
       "    <tr>\n",
       "      <th>5</th>\n",
       "      <td>time_stamp_month</td>\n",
       "      <td>2.336675</td>\n",
       "    </tr>\n",
       "    <tr>\n",
       "      <th>9</th>\n",
       "      <td>time_stamp_is_weekend</td>\n",
       "      <td>0.814711</td>\n",
       "    </tr>\n",
       "    <tr>\n",
       "      <th>15</th>\n",
       "      <td>creation_time_is_weekend</td>\n",
       "      <td>0.736254</td>\n",
       "    </tr>\n",
       "    <tr>\n",
       "      <th>6</th>\n",
       "      <td>time_stamp_day</td>\n",
       "      <td>0.064375</td>\n",
       "    </tr>\n",
       "    <tr>\n",
       "      <th>18</th>\n",
       "      <td>last_session_creation_time_day</td>\n",
       "      <td>0.000000</td>\n",
       "    </tr>\n",
       "    <tr>\n",
       "      <th>16</th>\n",
       "      <td>last_session_creation_time_year</td>\n",
       "      <td>0.000000</td>\n",
       "    </tr>\n",
       "    <tr>\n",
       "      <th>19</th>\n",
       "      <td>last_session_creation_time_int_hour</td>\n",
       "      <td>0.000000</td>\n",
       "    </tr>\n",
       "    <tr>\n",
       "      <th>20</th>\n",
       "      <td>last_session_creation_time_is_weekday</td>\n",
       "      <td>0.000000</td>\n",
       "    </tr>\n",
       "    <tr>\n",
       "      <th>21</th>\n",
       "      <td>last_session_creation_time_is_weekend</td>\n",
       "      <td>0.000000</td>\n",
       "    </tr>\n",
       "    <tr>\n",
       "      <th>3</th>\n",
       "      <td>visited</td>\n",
       "      <td>0.000000</td>\n",
       "    </tr>\n",
       "    <tr>\n",
       "      <th>17</th>\n",
       "      <td>last_session_creation_time_month</td>\n",
       "      <td>0.000000</td>\n",
       "    </tr>\n",
       "    <tr>\n",
       "      <th>7</th>\n",
       "      <td>time_stamp_int_hour</td>\n",
       "      <td>-0.001194</td>\n",
       "    </tr>\n",
       "    <tr>\n",
       "      <th>13</th>\n",
       "      <td>creation_time_int_hour</td>\n",
       "      <td>-0.001194</td>\n",
       "    </tr>\n",
       "    <tr>\n",
       "      <th>2</th>\n",
       "      <td>enabled_for_marketing_drip</td>\n",
       "      <td>-0.042804</td>\n",
       "    </tr>\n",
       "    <tr>\n",
       "      <th>12</th>\n",
       "      <td>creation_time_day</td>\n",
       "      <td>-0.076021</td>\n",
       "    </tr>\n",
       "    <tr>\n",
       "      <th>14</th>\n",
       "      <td>creation_time_is_weekday</td>\n",
       "      <td>-0.144892</td>\n",
       "    </tr>\n",
       "    <tr>\n",
       "      <th>8</th>\n",
       "      <td>time_stamp_is_weekday</td>\n",
       "      <td>-0.186537</td>\n",
       "    </tr>\n",
       "    <tr>\n",
       "      <th>0</th>\n",
       "      <td>creation_source</td>\n",
       "      <td>-0.198859</td>\n",
       "    </tr>\n",
       "    <tr>\n",
       "      <th>1</th>\n",
       "      <td>opted_in_to_mailing_list</td>\n",
       "      <td>-0.372990</td>\n",
       "    </tr>\n",
       "    <tr>\n",
       "      <th>11</th>\n",
       "      <td>creation_time_month</td>\n",
       "      <td>-2.382484</td>\n",
       "    </tr>\n",
       "    <tr>\n",
       "      <th>10</th>\n",
       "      <td>creation_time_year</td>\n",
       "      <td>-28.749470</td>\n",
       "    </tr>\n",
       "  </tbody>\n",
       "</table>\n",
       "</div>"
      ],
      "text/plain": [
       "                                 features       coef\n",
       "4                         time_stamp_year  28.408535\n",
       "5                        time_stamp_month   2.336675\n",
       "9                   time_stamp_is_weekend   0.814711\n",
       "15               creation_time_is_weekend   0.736254\n",
       "6                          time_stamp_day   0.064375\n",
       "18         last_session_creation_time_day   0.000000\n",
       "16        last_session_creation_time_year   0.000000\n",
       "19    last_session_creation_time_int_hour   0.000000\n",
       "20  last_session_creation_time_is_weekday   0.000000\n",
       "21  last_session_creation_time_is_weekend   0.000000\n",
       "3                                 visited   0.000000\n",
       "17       last_session_creation_time_month   0.000000\n",
       "7                     time_stamp_int_hour  -0.001194\n",
       "13                 creation_time_int_hour  -0.001194\n",
       "2              enabled_for_marketing_drip  -0.042804\n",
       "12                      creation_time_day  -0.076021\n",
       "14               creation_time_is_weekday  -0.144892\n",
       "8                   time_stamp_is_weekday  -0.186537\n",
       "0                         creation_source  -0.198859\n",
       "1                opted_in_to_mailing_list  -0.372990\n",
       "11                    creation_time_month  -2.382484\n",
       "10                     creation_time_year -28.749470"
      ]
     },
     "execution_count": 159,
     "metadata": {},
     "output_type": "execute_result"
    }
   ],
   "source": [
    "\n",
    "pd.DataFrame(zip(X_train.columns, np.transpose(clf.coef_.tolist()[0])), columns=['features', 'coef']).sort_values(by='coef',ascending=False)"
   ]
  },
  {
   "cell_type": "markdown",
   "metadata": {},
   "source": [
    "As per the logistic regression, time_stamp_year is the most important feature followed by time_stamp_month."
   ]
  },
  {
   "cell_type": "code",
   "execution_count": 160,
   "metadata": {},
   "outputs": [
    {
     "data": {
      "text/plain": [
       "0.8150462203925013"
      ]
     },
     "execution_count": 160,
     "metadata": {},
     "output_type": "execute_result"
    }
   ],
   "source": [
    "roc_auc_score(y_train, y_train_pred)"
   ]
  },
  {
   "cell_type": "code",
   "execution_count": 162,
   "metadata": {},
   "outputs": [
    {
     "data": {
      "text/plain": [
       "0.8076300308479238"
      ]
     },
     "execution_count": 162,
     "metadata": {},
     "output_type": "execute_result"
    }
   ],
   "source": [
    "roc_auc_score(y_test, y_test_pred)"
   ]
  },
  {
   "cell_type": "code",
   "execution_count": 163,
   "metadata": {},
   "outputs": [
    {
     "data": {
      "text/plain": [
       "0.9782604513361165"
      ]
     },
     "execution_count": 163,
     "metadata": {},
     "output_type": "execute_result"
    }
   ],
   "source": [
    "accuracy_score(y_train, y_train_pred)"
   ]
  },
  {
   "cell_type": "code",
   "execution_count": 164,
   "metadata": {},
   "outputs": [
    {
     "data": {
      "text/plain": [
       "0.977914582531743"
      ]
     },
     "execution_count": 164,
     "metadata": {},
     "output_type": "execute_result"
    }
   ],
   "source": [
    "accuracy_score(y_test, y_test_pred)"
   ]
  },
  {
   "cell_type": "markdown",
   "metadata": {},
   "source": [
    "Since the dataset is heavily imbalanced, the vanilla logistic regression model outputs 0.97 as accuracy. Since the dataset is imbalanced, using accuracy as a metric is incorrect."
   ]
  },
  {
   "cell_type": "code",
   "execution_count": 167,
   "metadata": {},
   "outputs": [],
   "source": [
    "LightGBM = lightgbm.LGBMClassifier(application = 'binary', objective = 'binary', boosting_type = 'dart', metric = 'auc', scale_pos_weight = (len(y_train[y_train['adopted_user'] == 0]) / len(y_train[y_train['adopted_user'] == 1])))"
   ]
  },
  {
   "cell_type": "code",
   "execution_count": 168,
   "metadata": {},
   "outputs": [
    {
     "name": "stderr",
     "output_type": "stream",
     "text": [
      "/Users/krishnasreenivas/opt/anaconda3/lib/python3.8/site-packages/sklearn/utils/validation.py:72: DataConversionWarning: A column-vector y was passed when a 1d array was expected. Please change the shape of y to (n_samples, ), for example using ravel().\n",
      "  return f(**kwargs)\n"
     ]
    },
    {
     "data": {
      "text/plain": [
       "LGBMClassifier(application='binary', boosting_type='dart', metric='auc',\n",
       "               objective='binary', scale_pos_weight=0.034826696042843205)"
      ]
     },
     "execution_count": 168,
     "metadata": {},
     "output_type": "execute_result"
    }
   ],
   "source": [
    "LightGBM.fit(X_train,y_train)"
   ]
  },
  {
   "cell_type": "code",
   "execution_count": 169,
   "metadata": {},
   "outputs": [
    {
     "name": "stdout",
     "output_type": "stream",
     "text": [
      "                                       ImportanceScore\n",
      "time_stamp_month                                   764\n",
      "creation_time_month                                720\n",
      "time_stamp_day                                     453\n",
      "creation_time_day                                  452\n",
      "creation_time_year                                 175\n",
      "time_stamp_year                                    172\n",
      "creation_source                                     70\n",
      "time_stamp_int_hour                                 57\n",
      "creation_time_is_weekday                            57\n",
      "time_stamp_is_weekday                               56\n",
      "enabled_for_marketing_drip                          10\n",
      "time_stamp_is_weekend                                9\n",
      "opted_in_to_mailing_list                             5\n",
      "visited                                              0\n",
      "creation_time_int_hour                               0\n",
      "creation_time_is_weekend                             0\n",
      "last_session_creation_time_year                      0\n",
      "last_session_creation_time_month                     0\n",
      "last_session_creation_time_day                       0\n",
      "last_session_creation_time_int_hour                  0\n",
      "last_session_creation_time_is_weekday                0\n",
      "last_session_creation_time_is_weekend                0\n"
     ]
    }
   ],
   "source": [
    "FeatureImportanceDf = pd.DataFrame(LightGBM.feature_importances_,\n",
    "                                  index = X_train.columns,\n",
    "                                  columns = ['ImportanceScore']).sort_values('ImportanceScore',ascending=False)\n",
    "with(pd.option_context('display.max_rows', 100)):\n",
    "    print(FeatureImportanceDf)"
   ]
  },
  {
   "cell_type": "code",
   "execution_count": 170,
   "metadata": {},
   "outputs": [
    {
     "name": "stderr",
     "output_type": "stream",
     "text": [
      "/Users/krishnasreenivas/opt/anaconda3/lib/python3.8/site-packages/pandas/core/frame.py:4163: SettingWithCopyWarning: \n",
      "A value is trying to be set on a copy of a slice from a DataFrame\n",
      "\n",
      "See the caveats in the documentation: https://pandas.pydata.org/pandas-docs/stable/user_guide/indexing.html#returning-a-view-versus-a-copy\n",
      "  return super().drop(\n"
     ]
    }
   ],
   "source": [
    "columns = list(FeatureImportanceDf[FeatureImportanceDf['ImportanceScore'] == 0].index)\n",
    "X_train.drop(columns = columns, axis = 1, inplace=True)\n",
    "X_test.drop(columns = columns, axis = 1, inplace=True)"
   ]
  },
  {
   "cell_type": "code",
   "execution_count": 171,
   "metadata": {},
   "outputs": [],
   "source": [
    "params = {\n",
    "    'learning_rate': [0.05,0.1],\n",
    "    'min_child_weight': [1,3,5,7],\n",
    "    'min_split_gain': [0.05,0.1,0.3,0.5,0.7,0.9,1.0,5.0],\n",
    "    'reg_alpha': [0.01, 0.05, 0.1, 0.5, 1.0, 3.0, 10.0, 15.0],\n",
    "    'subsample': [0.6,0.7,0.8,0.9,1.0],\n",
    "    'colsample_bytree': [0.6,0.7,0.8,0.9,1.0],\n",
    "    'reg_lambda': [0.01,0.05,0.1,0.5,1.0,2.0,3.0],\n",
    "    'min_data_in_leaf': [30, 45, 60],\n",
    "    'max_depth': [3,5],\n",
    "    'num_leaves': [7, 31],\n",
    "    'early_stopping_rounds':[5]\n",
    "}"
   ]
  },
  {
   "cell_type": "code",
   "execution_count": 172,
   "metadata": {},
   "outputs": [],
   "source": [
    "cvset = StratifiedKFold(n_splits=5)\n",
    "RandomSearch = RandomizedSearchCV(LightGBM, param_distributions=params, n_jobs=20, n_iter=50, cv=cvset, verbose = 3)"
   ]
  },
  {
   "cell_type": "code",
   "execution_count": 173,
   "metadata": {},
   "outputs": [
    {
     "name": "stdout",
     "output_type": "stream",
     "text": [
      "Fitting 5 folds for each of 50 candidates, totalling 250 fits\n"
     ]
    },
    {
     "name": "stderr",
     "output_type": "stream",
     "text": [
      "[Parallel(n_jobs=20)]: Using backend LokyBackend with 20 concurrent workers.\n",
      "[Parallel(n_jobs=20)]: Done  88 tasks      | elapsed:   41.6s\n",
      "[Parallel(n_jobs=20)]: Done 250 out of 250 | elapsed:  1.7min finished\n",
      "/Users/krishnasreenivas/opt/anaconda3/lib/python3.8/site-packages/sklearn/utils/validation.py:72: DataConversionWarning: A column-vector y was passed when a 1d array was expected. Please change the shape of y to (n_samples, ), for example using ravel().\n",
      "  return f(**kwargs)\n",
      "/Users/krishnasreenivas/opt/anaconda3/lib/python3.8/site-packages/lightgbm/engine.py:156: UserWarning: Found `early_stopping_rounds` in params. Will use it instead of argument\n",
      "  warnings.warn(\"Found `{}` in params. Will use it instead of argument\".format(alias))\n",
      "/Users/krishnasreenivas/opt/anaconda3/lib/python3.8/site-packages/lightgbm/callback.py:186: UserWarning: Early stopping is not available in dart mode\n",
      "  warnings.warn('Early stopping is not available in dart mode')\n"
     ]
    },
    {
     "data": {
      "text/plain": [
       "RandomizedSearchCV(cv=StratifiedKFold(n_splits=5, random_state=None, shuffle=False),\n",
       "                   estimator=LGBMClassifier(application='binary',\n",
       "                                            boosting_type='dart', metric='auc',\n",
       "                                            objective='binary',\n",
       "                                            scale_pos_weight=0.034826696042843205),\n",
       "                   n_iter=50, n_jobs=20,\n",
       "                   param_distributions={'colsample_bytree': [0.6, 0.7, 0.8, 0.9,\n",
       "                                                             1.0],\n",
       "                                        'early_stopping_rounds': [5],\n",
       "                                        'learning_rate': [0.05, 0.1],\n",
       "                                        'max_depth': [3, 5],\n",
       "                                        'min_child_weight': [1, 3, 5, 7],\n",
       "                                        'min_data_in_leaf': [30, 45, 60],\n",
       "                                        'min_split_gain': [0.05, 0.1, 0.3, 0.5,\n",
       "                                                           0.7, 0.9, 1.0, 5.0],\n",
       "                                        'num_leaves': [7, 31],\n",
       "                                        'reg_alpha': [0.01, 0.05, 0.1, 0.5, 1.0,\n",
       "                                                      3.0, 10.0, 15.0],\n",
       "                                        'reg_lambda': [0.01, 0.05, 0.1, 0.5,\n",
       "                                                       1.0, 2.0, 3.0],\n",
       "                                        'subsample': [0.6, 0.7, 0.8, 0.9, 1.0]},\n",
       "                   verbose=3)"
      ]
     },
     "execution_count": 173,
     "metadata": {},
     "output_type": "execute_result"
    }
   ],
   "source": [
    "RandomSearch.fit(X_train,y_train)"
   ]
  },
  {
   "cell_type": "code",
   "execution_count": 174,
   "metadata": {},
   "outputs": [
    {
     "data": {
      "text/html": [
       "<div>\n",
       "<style scoped>\n",
       "    .dataframe tbody tr th:only-of-type {\n",
       "        vertical-align: middle;\n",
       "    }\n",
       "\n",
       "    .dataframe tbody tr th {\n",
       "        vertical-align: top;\n",
       "    }\n",
       "\n",
       "    .dataframe thead th {\n",
       "        text-align: right;\n",
       "    }\n",
       "</style>\n",
       "<table border=\"1\" class=\"dataframe\">\n",
       "  <thead>\n",
       "    <tr style=\"text-align: right;\">\n",
       "      <th></th>\n",
       "      <th>0.0</th>\n",
       "      <th>1.0</th>\n",
       "    </tr>\n",
       "  </thead>\n",
       "  <tbody>\n",
       "    <tr>\n",
       "      <th>0</th>\n",
       "      <td>0.004282</td>\n",
       "      <td>0.995718</td>\n",
       "    </tr>\n",
       "    <tr>\n",
       "      <th>1</th>\n",
       "      <td>0.025248</td>\n",
       "      <td>0.974752</td>\n",
       "    </tr>\n",
       "    <tr>\n",
       "      <th>2</th>\n",
       "      <td>0.023999</td>\n",
       "      <td>0.976001</td>\n",
       "    </tr>\n",
       "    <tr>\n",
       "      <th>3</th>\n",
       "      <td>0.045622</td>\n",
       "      <td>0.954378</td>\n",
       "    </tr>\n",
       "    <tr>\n",
       "      <th>4</th>\n",
       "      <td>0.005332</td>\n",
       "      <td>0.994668</td>\n",
       "    </tr>\n",
       "  </tbody>\n",
       "</table>\n",
       "</div>"
      ],
      "text/plain": [
       "        0.0       1.0\n",
       "0  0.004282  0.995718\n",
       "1  0.025248  0.974752\n",
       "2  0.023999  0.976001\n",
       "3  0.045622  0.954378\n",
       "4  0.005332  0.994668"
      ]
     },
     "execution_count": 174,
     "metadata": {},
     "output_type": "execute_result"
    }
   ],
   "source": [
    "labels = RandomSearch.classes_\n",
    "y_train_pred = RandomSearch.predict_proba(X_train)\n",
    "y_train_pred_df = pd.DataFrame(y_train_pred, columns = labels)\n",
    "y_train_pred_df.head()"
   ]
  },
  {
   "cell_type": "code",
   "execution_count": 175,
   "metadata": {},
   "outputs": [
    {
     "data": {
      "text/html": [
       "<div>\n",
       "<style scoped>\n",
       "    .dataframe tbody tr th:only-of-type {\n",
       "        vertical-align: middle;\n",
       "    }\n",
       "\n",
       "    .dataframe tbody tr th {\n",
       "        vertical-align: top;\n",
       "    }\n",
       "\n",
       "    .dataframe thead th {\n",
       "        text-align: right;\n",
       "    }\n",
       "</style>\n",
       "<table border=\"1\" class=\"dataframe\">\n",
       "  <thead>\n",
       "    <tr style=\"text-align: right;\">\n",
       "      <th></th>\n",
       "      <th>0.0</th>\n",
       "      <th>1.0</th>\n",
       "    </tr>\n",
       "  </thead>\n",
       "  <tbody>\n",
       "    <tr>\n",
       "      <th>0</th>\n",
       "      <td>0.005292</td>\n",
       "      <td>0.994708</td>\n",
       "    </tr>\n",
       "    <tr>\n",
       "      <th>1</th>\n",
       "      <td>0.002703</td>\n",
       "      <td>0.997297</td>\n",
       "    </tr>\n",
       "    <tr>\n",
       "      <th>2</th>\n",
       "      <td>0.057465</td>\n",
       "      <td>0.942535</td>\n",
       "    </tr>\n",
       "    <tr>\n",
       "      <th>3</th>\n",
       "      <td>0.021558</td>\n",
       "      <td>0.978442</td>\n",
       "    </tr>\n",
       "    <tr>\n",
       "      <th>4</th>\n",
       "      <td>0.010738</td>\n",
       "      <td>0.989262</td>\n",
       "    </tr>\n",
       "  </tbody>\n",
       "</table>\n",
       "</div>"
      ],
      "text/plain": [
       "        0.0       1.0\n",
       "0  0.005292  0.994708\n",
       "1  0.002703  0.997297\n",
       "2  0.057465  0.942535\n",
       "3  0.021558  0.978442\n",
       "4  0.010738  0.989262"
      ]
     },
     "execution_count": 175,
     "metadata": {},
     "output_type": "execute_result"
    }
   ],
   "source": [
    "y_test_pred = RandomSearch.predict_proba(X_test)\n",
    "y_test_pred_df = pd.DataFrame(y_test_pred, columns = labels)\n",
    "y_test_pred_df.head()"
   ]
  },
  {
   "cell_type": "code",
   "execution_count": 176,
   "metadata": {},
   "outputs": [
    {
     "data": {
      "text/plain": [
       "0.991183311126057"
      ]
     },
     "execution_count": 176,
     "metadata": {},
     "output_type": "execute_result"
    }
   ],
   "source": [
    "roc_auc_score(y_train['adopted_user'].values, y_train_pred_df[1].values)"
   ]
  },
  {
   "cell_type": "code",
   "execution_count": 177,
   "metadata": {},
   "outputs": [
    {
     "data": {
      "text/plain": [
       "0.9903643265145791"
      ]
     },
     "execution_count": 177,
     "metadata": {},
     "output_type": "execute_result"
    }
   ],
   "source": [
    "roc_auc_score(y_test['adopted_user'].values, y_test_pred_df[1].values)"
   ]
  },
  {
   "cell_type": "markdown",
   "metadata": {},
   "source": [
    "As we can see, LightGBM has better ROC score as compared to the Logistic Regression."
   ]
  }
 ],
 "metadata": {
  "kernelspec": {
   "display_name": "Python 3",
   "language": "python",
   "name": "python3"
  },
  "language_info": {
   "codemirror_mode": {
    "name": "ipython",
    "version": 3
   },
   "file_extension": ".py",
   "mimetype": "text/x-python",
   "name": "python",
   "nbconvert_exporter": "python",
   "pygments_lexer": "ipython3",
   "version": "3.8.5"
  }
 },
 "nbformat": 4,
 "nbformat_minor": 4
}
